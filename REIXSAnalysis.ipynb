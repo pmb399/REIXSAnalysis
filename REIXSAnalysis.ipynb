{
 "cells": [
  {
   "cell_type": "markdown",
   "id": "26c15148",
   "metadata": {},
   "source": [
    "# Import modules and set base directory"
   ]
  },
  {
   "cell_type": "code",
   "execution_count": null,
   "id": "5a3e698e",
   "metadata": {},
   "outputs": [],
   "source": [
    "# Specify the base directory for the scans\n",
    "# e.g. put it in the scan directory and specify\n",
    "# basedir = '.'\n",
    "basedir = \"/Users/pmb399/ownCloud/Beamtime/example_data/\"\n",
    "basedir = \"/home/braun/ownCloud/Beamtime/example_data/\"\n",
    "\n",
    "## Setup necesarry inputs\n",
    "from reixs.LoadData import *\n",
    "from bokeh.io import output_notebook\n",
    "output_notebook(hide_banner=True)"
   ]
  },
  {
   "cell_type": "markdown",
   "id": "bf1846c3",
   "metadata": {},
   "source": [
    "# 1D Scans (SCA)"
   ]
  },
  {
   "cell_type": "markdown",
   "id": "7746f08e",
   "metadata": {},
   "source": [
    "## General Loader"
   ]
  },
  {
   "cell_type": "code",
   "execution_count": null,
   "id": "1d5a1776",
   "metadata": {},
   "outputs": [],
   "source": [
    "general1d = Load1d()\n",
    "general1d.load(basedir,'Plate2a.dat','Mono Energy','TEY',1,4,norm=True,coffset=-10,offset=[(510,520)])\n",
    "general1d.load(basedir,'Plate2a.dat','Mono Energy','PFY[O]',1,4)\n",
    "general1d.add(basedir,'Plate2a.dat','Mono Energy','PFY[O]',1,4,norm=True,avg=False)\n",
    "general1d.subtract(basedir,'Plate2a.dat','Mono Energy','PFY[O]',1,4,norm=True)\n",
    "general1d.plot()\n",
    "general1d.exporter()"
   ]
  },
  {
   "cell_type": "markdown",
   "id": "002ea2c2",
   "metadata": {},
   "source": [
    "## XAS Loader"
   ]
  },
  {
   "cell_type": "code",
   "execution_count": null,
   "id": "56ac1da1",
   "metadata": {},
   "outputs": [],
   "source": [
    "xas = XASLoader()\n",
    "# Options: TEY, TFY, PFY,iPFY,specPFY,POY,TOY\n",
    "xas.load(basedir,'Plate2a.dat','TEY',1,4,norm=True,coffset=-10,offset=[(510,520)])\n",
    "xas.load(basedir,'Plate2a.dat','Sample',1,4,norm=True,coffset=-10,offset=[(510,520)])\n",
    "xas.load(basedir,'Plate2a.dat','PFY[O]',1,4)\n",
    "xas.add(basedir,'Plate2a.dat','PFY[O]',1,4,norm=True)\n",
    "xas.subtract(basedir,'Plate2a.dat','PFY[O]',1,4,norm=True)\n",
    "xas.plot()\n",
    "xas.exporter()"
   ]
  },
  {
   "cell_type": "markdown",
   "id": "d88fec18",
   "metadata": {},
   "source": [
    "## XES Loader"
   ]
  },
  {
   "cell_type": "code",
   "execution_count": null,
   "id": "d433b89c",
   "metadata": {},
   "outputs": [],
   "source": [
    "xes = XESLoader()\n",
    "# Options: XES, rXES\n",
    "xes.load(basedir,'Plate2a.dat','XES',3,offset=[(510,520)])\n",
    "xes.load(basedir,'Plate2a.dat','XES',3)\n",
    "xes.load(basedir,'Plate2a.dat','rXES[520:560]',4)\n",
    "xes.add(basedir,'Plate2a.dat','XES',1,4,)\n",
    "xes.subtract(basedir,'Plate2a.dat','XES',1,4)\n",
    "xes.plot()\n",
    "xas.exporter()"
   ]
  },
  {
   "cell_type": "markdown",
   "id": "62c6543e",
   "metadata": {},
   "source": [
    "## XRF Loader"
   ]
  },
  {
   "cell_type": "code",
   "execution_count": null,
   "id": "b62efb49",
   "metadata": {},
   "outputs": [],
   "source": [
    "xrf = XRFLoader()\n",
    "# Options XRF,rXRF\n",
    "xrf.load(basedir,'Plate2a.dat','XRF',3,offset=[(510,520)])\n",
    "xrf.load(basedir,'Plate2a.dat','XRF',3)\n",
    "xrf.load(basedir,'Plate2a.dat','rXRF[520:560]',4)\n",
    "xrf.add(basedir,'Plate2a.dat','XRF',1,4,)\n",
    "xrf.subtract(basedir,'Plate2a.dat','XRF',1,4)\n",
    "xrf.plot()\n",
    "xrf.exporter()"
   ]
  },
  {
   "cell_type": "markdown",
   "id": "c5758ff8",
   "metadata": {},
   "source": [
    "## XEOL Loader"
   ]
  },
  {
   "cell_type": "code",
   "execution_count": null,
   "id": "2805f54e",
   "metadata": {},
   "outputs": [],
   "source": [
    "xeol = XEOLLoader()\n",
    "#Options: XEOL, rXEOL\n",
    "xeol.load(basedir,'RIXS_ES_QA.dat','XEOL',1,2,3,4,background=3)\n",
    "xeol.plot()"
   ]
  },
  {
   "cell_type": "markdown",
   "id": "be8d1699",
   "metadata": {},
   "source": [
    "# Mesh Scan"
   ]
  },
  {
   "cell_type": "code",
   "execution_count": null,
   "id": "5cfb5537",
   "metadata": {},
   "outputs": [],
   "source": [
    "mesh = LoadMesh()\n",
    "mesh.load(basedir,'mesh_scan.txt','Y','Z','TEY',24,norm=True)\n",
    "mesh.plot()\n",
    "mesh.exporter()"
   ]
  },
  {
   "cell_type": "markdown",
   "id": "dd3e13c8",
   "metadata": {},
   "source": [
    "# 2D Images"
   ]
  },
  {
   "cell_type": "markdown",
   "id": "2bc9a115",
   "metadata": {},
   "source": [
    "## General Loader"
   ]
  },
  {
   "cell_type": "code",
   "execution_count": null,
   "id": "cc6b3c7c",
   "metadata": {},
   "outputs": [],
   "source": [
    "load2d = Load2d()\n",
    "load2d.load(basedir,'Plate2a.dat','Mono Energy','SDD Energy','SDD',1)\n",
    "load2d.plot()\n",
    "load2d.exporter()"
   ]
  },
  {
   "cell_type": "markdown",
   "id": "527bab2c",
   "metadata": {},
   "source": [
    "## EEMs"
   ]
  },
  {
   "cell_type": "code",
   "execution_count": null,
   "id": "9c4f43c1",
   "metadata": {
    "scrolled": false
   },
   "outputs": [],
   "source": [
    "eems = EEMsLoader()\n",
    "eems.load(basedir,'Plate2a.dat','SDD',1)\n",
    "eems.load(basedir,'Plate2a.dat','MCP',1)\n",
    "eems.load(basedir,'RIXS_ES_QA.dat','XEOL',2,background=3)\n",
    "eems.plot()\n",
    "eems.exporter()"
   ]
  },
  {
   "cell_type": "markdown",
   "id": "7857a339",
   "metadata": {},
   "source": [
    "# RSXS"
   ]
  },
  {
   "cell_type": "markdown",
   "id": "f8702b0b",
   "metadata": {},
   "source": [
    "## ImageROI to SCA"
   ]
  },
  {
   "cell_type": "code",
   "execution_count": null,
   "id": "5d8c7252",
   "metadata": {},
   "outputs": [],
   "source": [
    "mcp = ImageROILoader()\n",
    "mcp.load(basedir,'RSXSalign_Jan2021',[1,2,50],1,34,x=[101,105],y=[-5,5],xcoffset=0,norm=True)\n",
    "mcp.load(basedir,'RSXSalign_Jan2021',[1,2,50],1,34,x=[101,105],y=[-5,5],deriv=1,norm=True)\n",
    "mcp.plot()\n",
    "mcp.exporter()"
   ]
  },
  {
   "cell_type": "markdown",
   "id": "c64364d7",
   "metadata": {},
   "source": [
    "## StackROI to MCA"
   ]
  },
  {
   "cell_type": "code",
   "execution_count": null,
   "id": "cd586801",
   "metadata": {},
   "outputs": [],
   "source": [
    "stackroi = StackROILoader()\n",
    "stackroi.load(basedir,'RSXSalign_Jan2021',1,34,35,x=[101,105],y=[-5,5])\n",
    "stackroi.plot()\n",
    "stackroi.exporter()"
   ]
  },
  {
   "cell_type": "markdown",
   "id": "59bf776d",
   "metadata": {},
   "source": [
    "## ImageStack to movie"
   ]
  },
  {
   "cell_type": "code",
   "execution_count": null,
   "id": "fd6f483c",
   "metadata": {},
   "outputs": [],
   "source": [
    "stack = ImageStackLoader()\n",
    "stack.load(basedir,'RSXSalign_Jan2021',34)\n",
    "stack.plot()"
   ]
  },
  {
   "cell_type": "code",
   "execution_count": null,
   "id": "78e2b8b7",
   "metadata": {},
   "outputs": [],
   "source": []
  }
 ],
 "metadata": {
  "kernelspec": {
   "display_name": "Python 3 (ipykernel)",
   "language": "python",
   "name": "python3"
  },
  "language_info": {
   "codemirror_mode": {
    "name": "ipython",
    "version": 3
   },
   "file_extension": ".py",
   "mimetype": "text/x-python",
   "name": "python",
   "nbconvert_exporter": "python",
   "pygments_lexer": "ipython3",
   "version": "3.8.10"
  }
 },
 "nbformat": 4,
 "nbformat_minor": 5
}
