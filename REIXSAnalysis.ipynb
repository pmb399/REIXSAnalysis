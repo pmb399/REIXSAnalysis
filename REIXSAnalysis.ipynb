{
 "cells": [
  {
   "cell_type": "markdown",
   "source": [
    "# Import modules and set base directory"
   ],
   "metadata": {}
  },
  {
   "cell_type": "code",
   "execution_count": null,
   "source": [
    "# Specify the base directory for the scans\n",
    "# e.g. put it in the scan directory and specify\n",
    "# basedir = '.'\n",
    "basedir = \"/Users/pmb399/ownCloud/Beamtime/example_data/\"\n",
    "basedir = \"/home/braun/ownCloud/Beamtime/example_data/\"\n",
    "\n",
    "## Setup necessarry inputs\n",
    "from reixs.LoadData import *\n",
    "from bokeh.io import output_notebook\n",
    "output_notebook(hide_banner=True)"
   ],
   "outputs": [],
   "metadata": {}
  },
  {
   "cell_type": "markdown",
   "source": [
    "# 1D Scans (SCA)"
   ],
   "metadata": {}
  },
  {
   "cell_type": "markdown",
   "source": [
    "## General Loader"
   ],
   "metadata": {}
  },
  {
   "cell_type": "code",
   "execution_count": null,
   "source": [
    "general1d = Load1d()\n",
    "general1d.load(basedir,'Plate2a.dat','Mono Energy','TEY',1,4,norm=True,coffset=-10,offset=[(510,520)])\n",
    "general1d.load(basedir,'Plate2a.dat','Mono Energy','PFY[O]',1,4)\n",
    "general1d.add(basedir,'Plate2a.dat','Mono Energy','PFY[O]',1,4,norm=True,avg=False)\n",
    "general1d.subtract(basedir,'Plate2a.dat','Mono Energy','PFY[O]',1,4,norm=True)\n",
    "general1d.plot()\n",
    "general1d.exporter()"
   ],
   "outputs": [],
   "metadata": {}
  },
  {
   "cell_type": "markdown",
   "source": [
    "## XAS Loader"
   ],
   "metadata": {}
  },
  {
   "cell_type": "code",
   "execution_count": null,
   "source": [
    "xas = XASLoader()\n",
    "# Options: TEY, TFY, PFY,iPFY,specPFY,POY,TOY\n",
    "xas.load(basedir,'Plate2a.dat','TEY',1,4,norm=True,coffset=-10,offset=[(510,520)])\n",
    "xas.load(basedir,'Plate2a.dat','Sample',1,4,norm=True,coffset=-10,offset=[(510,520)])\n",
    "xas.load(basedir,'Plate2a.dat','PFY[O]',1,4)\n",
    "xas.add(basedir,'Plate2a.dat','PFY[O]',1,4,norm=True)\n",
    "xas.subtract(basedir,'Plate2a.dat','PFY[O]',1,4,norm=True)\n",
    "xas.plot()\n",
    "xas.exporter()"
   ],
   "outputs": [],
   "metadata": {}
  },
  {
   "cell_type": "markdown",
   "source": [
    "## XES Loader"
   ],
   "metadata": {}
  },
  {
   "cell_type": "code",
   "execution_count": null,
   "source": [
    "xes = XESLoader()\n",
    "# Options: XES, rXES\n",
    "xes.load(basedir,'Plate2a.dat','XES',3,offset=[(510,520)])\n",
    "xes.load(basedir,'Plate2a.dat','XES',3)\n",
    "xes.load(basedir,'Plate2a.dat','rXES[520:560]',4)\n",
    "xes.add(basedir,'Plate2a.dat','XES',1,4,)\n",
    "xes.subtract(basedir,'Plate2a.dat','XES',1,4)\n",
    "xes.plot()\n",
    "xas.exporter()"
   ],
   "outputs": [],
   "metadata": {}
  },
  {
   "cell_type": "markdown",
   "source": [
    "## XRF Loader"
   ],
   "metadata": {}
  },
  {
   "cell_type": "code",
   "execution_count": null,
   "source": [
    "xrf = XRFLoader()\n",
    "# Options XRF,rXRF\n",
    "xrf.load(basedir,'Plate2a.dat','XRF',3,offset=[(510,520)])\n",
    "xrf.load(basedir,'Plate2a.dat','XRF',3)\n",
    "xrf.load(basedir,'Plate2a.dat','rXRF[520:560]',4)\n",
    "xrf.add(basedir,'Plate2a.dat','XRF',1,4,)\n",
    "xrf.subtract(basedir,'Plate2a.dat','XRF',1,4)\n",
    "xrf.plot()\n",
    "xrf.exporter()"
   ],
   "outputs": [],
   "metadata": {}
  },
  {
   "cell_type": "markdown",
   "source": [
    "## XEOL Loader"
   ],
   "metadata": {}
  },
  {
   "cell_type": "code",
   "execution_count": null,
   "source": [
    "xeol = XEOLLoader()\n",
    "#Options: XEOL, rXEOL\n",
    "xeol.load(basedir,'RIXS_ES_QA.dat','XEOL',1,2,3,4,background=3)\n",
    "xeol.plot()"
   ],
   "outputs": [],
   "metadata": {}
  },
  {
   "cell_type": "markdown",
   "source": [
    "# Mesh Scan"
   ],
   "metadata": {}
  },
  {
   "cell_type": "code",
   "execution_count": null,
   "source": [
    "mesh = LoadMesh()\n",
    "mesh.load(basedir,'mesh_scan.txt','Y','Z','TEY',24,norm=True)\n",
    "mesh.plot()\n",
    "mesh.exporter()"
   ],
   "outputs": [],
   "metadata": {}
  },
  {
   "cell_type": "markdown",
   "source": [
    "# 2D Images"
   ],
   "metadata": {}
  },
  {
   "cell_type": "markdown",
   "source": [
    "## General Loader"
   ],
   "metadata": {}
  },
  {
   "cell_type": "code",
   "execution_count": null,
   "source": [
    "load2d = Load2d()\n",
    "load2d.load(basedir,'Plate2a.dat','Mono Energy','SDD Energy','SDD',1)\n",
    "load2d.plot()\n",
    "load2d.exporter()"
   ],
   "outputs": [],
   "metadata": {}
  },
  {
   "cell_type": "markdown",
   "source": [
    "## EEMs"
   ],
   "metadata": {}
  },
  {
   "cell_type": "code",
   "execution_count": null,
   "source": [
    "eems = EEMsLoader()\n",
    "eems.load(basedir,'Plate2a.dat','SDD',1)\n",
    "eems.load(basedir,'Plate2a.dat','MCP',1)\n",
    "eems.load(basedir,'RIXS_ES_QA.dat','XEOL',2,background=3)\n",
    "eems.plot()\n",
    "eems.exporter()"
   ],
   "outputs": [],
   "metadata": {
    "scrolled": false
   }
  },
  {
   "cell_type": "markdown",
   "source": [
    "# RSXS"
   ],
   "metadata": {}
  },
  {
   "cell_type": "markdown",
   "source": [
    "## ImageROI to SCA"
   ],
   "metadata": {}
  },
  {
   "cell_type": "code",
   "execution_count": null,
   "source": [
    "mcp = ImageROILoader()\n",
    "mcp.load(basedir,'RSXSalign_Jan2021',[1,2,50],1,34,x=[101,105],y=[-5,5],xcoffset=0,norm=True)\n",
    "mcp.load(basedir,'RSXSalign_Jan2021',[1,2,50],1,34,x=[101,105],y=[-5,5],deriv=1,norm=True)\n",
    "mcp.plot()\n",
    "mcp.exporter()"
   ],
   "outputs": [],
   "metadata": {}
  },
  {
   "cell_type": "markdown",
   "source": [
    "## StackROI to MCA"
   ],
   "metadata": {}
  },
  {
   "cell_type": "code",
   "execution_count": null,
   "source": [
    "stackroi = StackROILoader()\n",
    "stackroi.load(basedir,'RSXSalign_Jan2021',1,34,35,x=[101,105],y=[-5,5])\n",
    "stackroi.plot()\n",
    "stackroi.exporter()"
   ],
   "outputs": [],
   "metadata": {}
  },
  {
   "cell_type": "markdown",
   "source": [
    "## ImageStack to movie"
   ],
   "metadata": {}
  },
  {
   "cell_type": "code",
   "execution_count": null,
   "source": [
    "stack = ImageStackLoader()\n",
    "stack.load(basedir,'RSXSalign_Jan2021',34)\n",
    "stack.plot()"
   ],
   "outputs": [],
   "metadata": {}
  },
  {
   "cell_type": "code",
   "execution_count": null,
   "source": [],
   "outputs": [],
   "metadata": {}
  }
 ],
 "metadata": {
  "kernelspec": {
   "display_name": "Python 3 (ipykernel)",
   "language": "python",
   "name": "python3"
  },
  "language_info": {
   "codemirror_mode": {
    "name": "ipython",
    "version": 3
   },
   "file_extension": ".py",
   "mimetype": "text/x-python",
   "name": "python",
   "nbconvert_exporter": "python",
   "pygments_lexer": "ipython3",
   "version": "3.8.10"
  }
 },
 "nbformat": 4,
 "nbformat_minor": 5
}