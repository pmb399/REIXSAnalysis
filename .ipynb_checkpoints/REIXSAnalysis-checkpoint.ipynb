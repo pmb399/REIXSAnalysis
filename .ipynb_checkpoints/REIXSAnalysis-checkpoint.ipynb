{
 "cells": [
  {
   "cell_type": "code",
   "execution_count": null,
   "id": "damaged-trail",
   "metadata": {},
   "outputs": [],
   "source": [
    "# Hard Coded Base Dir\n",
    "# Need to put notebook in same directort as data or parent\n",
    "basedir = \"/home/braun/ownCloud/Beamtime/\"\n",
    "\n",
    "# If widgets don't show\n",
    "# jupyter nbextension enable --py widgetsnbextension\n",
    "\n",
    "## Setup necesarry inputs\n",
    "from reixs.PlotData import *\n",
    "import ipywidgets as widgets\n",
    "from IPython.display import display,clear_output\n",
    "from ipyfilechooser import FileChooser\n",
    "from bokeh.io import show, output_notebook\n",
    "output_notebook(hide_banner=True)"
   ]
  },
  {
   "cell_type": "code",
   "execution_count": null,
   "id": "talented-transaction",
   "metadata": {},
   "outputs": [],
   "source": [
    "xas = XASLoader()\n",
    "xas.load(basedir,'BGO1.dat','TEY',1)\n",
    "xas.load(basedir,'BGO1.dat','PFY[O]',1)\n",
    "xas.plot()\n",
    "xas.exporter()"
   ]
  },
  {
   "cell_type": "code",
   "execution_count": null,
   "id": "polish-workshop",
   "metadata": {},
   "outputs": [],
   "source": [
    "xes = XESLoader()\n",
    "xes.load(basedir,'BGO1.dat','XES',1)\n",
    "xes.plot()\n",
    "xes.exporter()"
   ]
  },
  {
   "cell_type": "code",
   "execution_count": null,
   "id": "satisfied-doubt",
   "metadata": {},
   "outputs": [],
   "source": []
  }
 ],
 "metadata": {
  "kernelspec": {
   "display_name": "Python 3",
   "language": "python",
   "name": "python3"
  },
  "language_info": {
   "codemirror_mode": {
    "name": "ipython",
    "version": 3
   },
   "file_extension": ".py",
   "mimetype": "text/x-python",
   "name": "python",
   "nbconvert_exporter": "python",
   "pygments_lexer": "ipython3",
   "version": "3.8.10"
  }
 },
 "nbformat": 4,
 "nbformat_minor": 5
}
